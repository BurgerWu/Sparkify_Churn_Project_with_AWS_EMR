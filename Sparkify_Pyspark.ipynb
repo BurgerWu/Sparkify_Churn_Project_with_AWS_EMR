{
 "cells": [
  {
   "cell_type": "code",
   "execution_count": 24,
   "id": "dc6f25e2",
   "metadata": {},
   "outputs": [
    {
     "data": {
      "application/vnd.jupyter.widget-view+json": {
       "model_id": "fa1e995e291041149bc564717556d6dc",
       "version_major": 2,
       "version_minor": 0
      },
      "text/plain": [
       "VBox()"
      ]
     },
     "metadata": {},
     "output_type": "display_data"
    },
    {
     "data": {
      "application/vnd.jupyter.widget-view+json": {
       "model_id": "",
       "version_major": 2,
       "version_minor": 0
      },
      "text/plain": [
       "FloatProgress(value=0.0, bar_style='info', description='Progress:', layout=Layout(height='25px', width='50%'),…"
      ]
     },
     "metadata": {},
     "output_type": "display_data"
    }
   ],
   "source": [
    "# import pyspark libraries\n",
    "from pyspark.sql import SparkSession\n",
    "from pyspark.sql.functions import udf, array\n",
    "from pyspark.sql.types import IntegerType, StringType, BooleanType, DateType, FloatType\n",
    "import pyspark.sql.functions as sql_func\n",
    "from pyspark.sql.functions import isnan, count, when, col, desc, udf, sort_array, asc, avg, rank, mean, first, ceil, rand\n",
    "from pyspark.sql.window import Window\n",
    "from pyspark import SparkContext, SparkConf\n",
    "\n",
    "#import Python libraries\n",
    "import math\n",
    "import re\n",
    "import datetime\n",
    "import numpy as np\n",
    "import pandas as pd\n",
    "import seaborn as sb\n",
    "import matplotlib.pyplot as plt\n"
   ]
  },
  {
   "cell_type": "code",
   "execution_count": 2,
   "id": "8ddc8396",
   "metadata": {},
   "outputs": [
    {
     "data": {
      "application/vnd.jupyter.widget-view+json": {
       "model_id": "48a52d8eb7e64944b83c4dde39e472e4",
       "version_major": 2,
       "version_minor": 0
      },
      "text/plain": [
       "VBox()"
      ]
     },
     "metadata": {},
     "output_type": "display_data"
    },
    {
     "data": {
      "application/vnd.jupyter.widget-view+json": {
       "model_id": "",
       "version_major": 2,
       "version_minor": 0
      },
      "text/plain": [
       "FloatProgress(value=0.0, bar_style='info', description='Progress:', layout=Layout(height='25px', width='50%'),…"
      ]
     },
     "metadata": {},
     "output_type": "display_data"
    },
    {
     "name": "stdout",
     "output_type": "stream",
     "text": [
      "Collecting Cython\n",
      "  Using cached https://files.pythonhosted.org/packages/3d/48/bbca549da0b0f636c0f161e84d30172c40aafe99552680f297da7fedf102/Cython-0.29.24-cp37-cp37m-manylinux1_x86_64.whl\n",
      "Installing collected packages: Cython\n",
      "Successfully installed Cython-0.29.24\n",
      "\n",
      "Collecting pybind11\n",
      "  Using cached https://files.pythonhosted.org/packages/a8/3b/fc246e1d4c7547a7a07df830128e93c6215e9b93dcb118b2a47a70726153/pybind11-2.8.1-py2.py3-none-any.whl\n",
      "Installing collected packages: pybind11\n",
      "Successfully installed pybind11-2.8.1\n",
      "\n",
      "Collecting pythran\n",
      "  Using cached https://files.pythonhosted.org/packages/0a/c4/187ae2c4d39fabb8e0bb75521a00b04ba51bf37622ab799d5fc28182ea5d/pythran-0.10.0-py3-none-any.whl\n",
      "Collecting gast~=0.5.0 (from pythran)\n",
      "  Using cached https://files.pythonhosted.org/packages/5f/1c/b59500a88c5c3d9d601c5ca62b9df5e0964764472faed82a182958a922c5/gast-0.5.3-py3-none-any.whl\n",
      "Collecting ply>=3.4 (from pythran)\n",
      "  Using cached https://files.pythonhosted.org/packages/a3/58/35da89ee790598a0700ea49b2a66594140f44dec458c07e8e3d4979137fc/ply-3.11-py2.py3-none-any.whl\n",
      "Collecting beniget~=0.4.0 (from pythran)\n",
      "  Using cached https://files.pythonhosted.org/packages/cc/4a/af3f1b3d00efd47309b7a0e28351e06453727fa55d9b3a45fd4b91031a63/beniget-0.4.1-py3-none-any.whl\n",
      "Requirement already satisfied: numpy in /usr/local/lib64/python3.7/site-packages (from pythran)\n",
      "Installing collected packages: gast, ply, beniget, pythran\n",
      "Successfully installed beniget-0.4.1 gast-0.5.3 ply-3.11 pythran-0.10.0\n",
      "\n",
      "Not uninstalling numpy at /usr/local/lib64/python3.7/site-packages, outside environment /tmp/1637079685658-0\n",
      "\n",
      "Uninstalling pip-9.0.1:\n",
      "  Successfully uninstalled pip-9.0.1\n",
      "\n",
      "Collecting pip==21.3.1\n",
      "  Using cached pip-21.3.1-py3-none-any.whl (1.7 MB)\n",
      "Installing collected packages: pip\n",
      "Successfully installed pip-21.3.1\n",
      "\n",
      "Collecting numpy==1.21.4\n",
      "  Using cached numpy-1.21.4-cp37-cp37m-manylinux_2_12_x86_64.manylinux2010_x86_64.whl (15.7 MB)\n",
      "Installing collected packages: numpy\n",
      "  Attempting uninstall: numpy\n",
      "    Found existing installation: numpy 1.16.5\n",
      "    Not uninstalling numpy at /usr/local/lib64/python3.7/site-packages, outside environment /tmp/1637079685658-0\n",
      "    Can't uninstall 'numpy'. No files were found to uninstall.\n",
      "Successfully installed numpy-1.21.4\n",
      "\n",
      "Collecting pandas==0.25.1\n",
      "  Using cached pandas-0.25.1-cp37-cp37m-manylinux1_x86_64.whl (10.4 MB)\n",
      "Collecting python-dateutil>=2.6.1\n",
      "  Using cached python_dateutil-2.8.2-py2.py3-none-any.whl (247 kB)\n",
      "Requirement already satisfied: numpy>=1.13.3 in /mnt/tmp/1637079685658-0/lib/python3.7/site-packages (from pandas==0.25.1) (1.21.4)\n",
      "Requirement already satisfied: pytz>=2017.2 in /usr/local/lib/python3.7/site-packages (from pandas==0.25.1) (2021.1)\n",
      "Requirement already satisfied: six>=1.5 in /usr/local/lib/python3.7/site-packages (from python-dateutil>=2.6.1->pandas==0.25.1) (1.13.0)\n",
      "Installing collected packages: python-dateutil, pandas\n",
      "Successfully installed pandas-0.25.1 python-dateutil-2.8.2\n",
      "\n",
      "Collecting matplotlib==3.0.1\n",
      "  Using cached matplotlib-3.0.1-cp37-cp37m-manylinux1_x86_64.whl (12.9 MB)\n",
      "Collecting cycler>=0.10\n",
      "  Using cached cycler-0.11.0-py3-none-any.whl (6.4 kB)\n",
      "Requirement already satisfied: python-dateutil>=2.1 in /mnt/tmp/1637079685658-0/lib/python3.7/site-packages (from matplotlib==3.0.1) (2.8.2)\n",
      "Collecting kiwisolver>=1.0.1\n",
      "  Using cached kiwisolver-1.3.2-cp37-cp37m-manylinux_2_5_x86_64.manylinux1_x86_64.whl (1.1 MB)\n",
      "Requirement already satisfied: numpy>=1.10.0 in /mnt/tmp/1637079685658-0/lib/python3.7/site-packages (from matplotlib==3.0.1) (1.21.4)\n",
      "Collecting pyparsing!=2.0.4,!=2.1.2,!=2.1.6,>=2.0.1\n",
      "  Using cached pyparsing-3.0.6-py3-none-any.whl (97 kB)\n",
      "Requirement already satisfied: six>=1.5 in /usr/local/lib/python3.7/site-packages (from python-dateutil>=2.1->matplotlib==3.0.1) (1.13.0)\n",
      "Installing collected packages: pyparsing, kiwisolver, cycler, matplotlib\n",
      "Successfully installed cycler-0.11.0 kiwisolver-1.3.2 matplotlib-3.0.1 pyparsing-3.0.6\n",
      "\n",
      "Collecting seaborn==0.9.0\n",
      "  Using cached seaborn-0.9.0-py3-none-any.whl (208 kB)\n",
      "Collecting scipy>=0.14.0\n",
      "  Using cached scipy-1.7.2-cp37-cp37m-manylinux_2_12_x86_64.manylinux2010_x86_64.whl (38.2 MB)\n",
      "Requirement already satisfied: pandas>=0.15.2 in /mnt/tmp/1637079685658-0/lib/python3.7/site-packages (from seaborn==0.9.0) (0.25.1)\n",
      "Requirement already satisfied: matplotlib>=1.4.3 in /mnt/tmp/1637079685658-0/lib/python3.7/site-packages (from seaborn==0.9.0) (3.0.1)\n",
      "Requirement already satisfied: numpy>=1.9.3 in /mnt/tmp/1637079685658-0/lib/python3.7/site-packages (from seaborn==0.9.0) (1.21.4)\n",
      "Requirement already satisfied: cycler>=0.10 in /mnt/tmp/1637079685658-0/lib/python3.7/site-packages (from matplotlib>=1.4.3->seaborn==0.9.0) (0.11.0)\n",
      "Requirement already satisfied: python-dateutil>=2.1 in /mnt/tmp/1637079685658-0/lib/python3.7/site-packages (from matplotlib>=1.4.3->seaborn==0.9.0) (2.8.2)\n",
      "Requirement already satisfied: kiwisolver>=1.0.1 in /mnt/tmp/1637079685658-0/lib/python3.7/site-packages (from matplotlib>=1.4.3->seaborn==0.9.0) (1.3.2)\n",
      "Requirement already satisfied: pyparsing!=2.0.4,!=2.1.2,!=2.1.6,>=2.0.1 in /mnt/tmp/1637079685658-0/lib/python3.7/site-packages (from matplotlib>=1.4.3->seaborn==0.9.0) (3.0.6)\n",
      "Requirement already satisfied: pytz>=2017.2 in /usr/local/lib/python3.7/site-packages (from pandas>=0.15.2->seaborn==0.9.0) (2021.1)\n",
      "Requirement already satisfied: six>=1.5 in /usr/local/lib/python3.7/site-packages (from python-dateutil>=2.1->matplotlib>=1.4.3->seaborn==0.9.0) (1.13.0)\n",
      "Installing collected packages: scipy, seaborn\n",
      "Successfully installed scipy-1.7.2 seaborn-0.9.0\n",
      "\n",
      "You are using pip version 9.0.1, however version 21.3.1 is available.\n",
      "You should consider upgrading via the 'pip install --upgrade pip' command.\n",
      "\n",
      "You are using pip version 9.0.1, however version 21.3.1 is available.\n",
      "You should consider upgrading via the 'pip install --upgrade pip' command.\n",
      "\n",
      "You are using pip version 9.0.1, however version 21.3.1 is available.\n",
      "You should consider upgrading via the 'pip install --upgrade pip' command.\n",
      "\n",
      "You are using pip version 9.0.1, however version 21.3.1 is available.\n",
      "You should consider upgrading via the 'pip install --upgrade pip' command.\n",
      "\n",
      "You are using pip version 20.2.2, however version 21.3.1 is available.\n",
      "You should consider upgrading via the 'pip install --upgrade pip' command.\n",
      "\n",
      "\n",
      "ERROR: pip's dependency resolver does not currently take into account all the packages that are installed. This behaviour is the source of the following dependency conflicts.\n",
      "python37-sagemaker-pyspark 1.4.1 requires pyspark==2.3.4, which is not installed."
     ]
    }
   ],
   "source": [
    "sc.install_pypi_package(\"Cython\")\n",
    "sc.install_pypi_package(\"pybind11\")\n",
    "sc.install_pypi_package(\"pythran\")\n",
    "sc.uninstall_package(\"numpy\")\n",
    "sc.uninstall_package(\"pip\")\n",
    "sc.install_pypi_package(\"pip==21.3.1\")\n",
    "sc.install_pypi_package(\"numpy==1.21.4\")\n",
    "sc.install_pypi_package(\"pandas==0.25.1\")\n",
    "sc.install_pypi_package(\"matplotlib==3.0.1\")\n",
    "sc.install_pypi_package(\"seaborn==0.9.0\")\n"
   ]
  },
  {
   "cell_type": "code",
   "execution_count": 1,
   "id": "8eee9ee3",
   "metadata": {},
   "outputs": [
    {
     "data": {
      "application/vnd.jupyter.widget-view+json": {
       "model_id": "eef7c75a161247d2b818b039fd199711",
       "version_major": 2,
       "version_minor": 0
      },
      "text/plain": [
       "VBox()"
      ]
     },
     "metadata": {},
     "output_type": "display_data"
    },
    {
     "name": "stdout",
     "output_type": "stream",
     "text": [
      "Starting Spark application\n"
     ]
    },
    {
     "data": {
      "text/html": [
       "<table>\n",
       "<tr><th>ID</th><th>YARN Application ID</th><th>Kind</th><th>State</th><th>Spark UI</th><th>Driver log</th><th>Current session?</th></tr><tr><td>11</td><td>application_1637063911317_0012</td><td>pyspark</td><td>idle</td><td><a target=\"_blank\" href=\"http://ip-10-0-1-195.us-west-2.compute.internal:20888/proxy/application_1637063911317_0012/\" class=\"emr-proxy-link\" emr-resource=\"j-TMS3X9WZMBQK\n",
       "\" application-id=\"application_1637063911317_0012\">Link</a></td><td><a target=\"_blank\" href=\"http://ip-10-0-1-207.us-west-2.compute.internal:8042/node/containerlogs/container_1637063911317_0012_01_000001/livy\" >Link</a></td><td>✔</td></tr></table>"
      ],
      "text/plain": [
       "<IPython.core.display.HTML object>"
      ]
     },
     "metadata": {},
     "output_type": "display_data"
    },
    {
     "data": {
      "application/vnd.jupyter.widget-view+json": {
       "model_id": "",
       "version_major": 2,
       "version_minor": 0
      },
      "text/plain": [
       "FloatProgress(value=0.0, bar_style='info', description='Progress:', layout=Layout(height='25px', width='50%'),…"
      ]
     },
     "metadata": {},
     "output_type": "display_data"
    },
    {
     "name": "stdout",
     "output_type": "stream",
     "text": [
      "SparkSession available as 'spark'.\n"
     ]
    },
    {
     "data": {
      "application/vnd.jupyter.widget-view+json": {
       "model_id": "",
       "version_major": 2,
       "version_minor": 0
      },
      "text/plain": [
       "FloatProgress(value=0.0, bar_style='info', description='Progress:', layout=Layout(height='25px', width='50%'),…"
      ]
     },
     "metadata": {},
     "output_type": "display_data"
    },
    {
     "name": "stdout",
     "output_type": "stream",
     "text": [
      "aws-cfn-bootstrap (2.0)\n",
      "beautifulsoup4 (4.9.3)\n",
      "boto (2.49.0)\n",
      "click (8.0.1)\n",
      "docutils (0.14)\n",
      "jmespath (0.10.0)\n",
      "joblib (1.0.1)\n",
      "lockfile (0.11.0)\n",
      "lxml (4.6.3)\n",
      "mysqlclient (1.4.2)\n",
      "nltk (3.6.2)\n",
      "nose (1.3.4)\n",
      "numpy (1.16.5)\n",
      "pip (9.0.1)\n",
      "py-dateutil (2.2)\n",
      "pystache (0.5.4)\n",
      "python-daemon (2.2.3)\n",
      "python37-sagemaker-pyspark (1.4.1)\n",
      "pytz (2021.1)\n",
      "PyYAML (5.4.1)\n",
      "regex (2021.8.3)\n",
      "setuptools (28.8.0)\n",
      "simplejson (3.2.0)\n",
      "six (1.13.0)\n",
      "tqdm (4.62.1)\n",
      "wheel (0.29.0)\n",
      "windmill (1.6)\n",
      "\n",
      "DEPRECATION: The default format will switch to columns in the future. You can use --format=(legacy|columns) (or define a format=(legacy|columns) in your pip.conf under the [list] section) to disable this warning.\n",
      "You are using pip version 9.0.1, however version 21.3.1 is available.\n",
      "You should consider upgrading via the 'pip install --upgrade pip' command."
     ]
    }
   ],
   "source": [
    "sc.list_packages()"
   ]
  },
  {
   "cell_type": "code",
   "execution_count": 5,
   "id": "50b49f16",
   "metadata": {},
   "outputs": [
    {
     "data": {
      "application/vnd.jupyter.widget-view+json": {
       "model_id": "7376ad0ea77d439db23e5bd79a0f0ba4",
       "version_major": 2,
       "version_minor": 0
      },
      "text/plain": [
       "VBox()"
      ]
     },
     "metadata": {},
     "output_type": "display_data"
    },
    {
     "data": {
      "application/vnd.jupyter.widget-view+json": {
       "model_id": "",
       "version_major": 2,
       "version_minor": 0
      },
      "text/plain": [
       "FloatProgress(value=0.0, bar_style='info', description='Progress:', layout=Layout(height='25px', width='50%'),…"
      ]
     },
     "metadata": {},
     "output_type": "display_data"
    }
   ],
   "source": [
    "# create a Spark session with configuration\n",
    "spark = SparkSession.builder.appName(\"Sparkify\").getOrCreate()"
   ]
  },
  {
   "cell_type": "code",
   "execution_count": 6,
   "id": "6c2d1940",
   "metadata": {},
   "outputs": [
    {
     "data": {
      "application/vnd.jupyter.widget-view+json": {
       "model_id": "d7ae057a37724cbe881e0576d10c4676",
       "version_major": 2,
       "version_minor": 0
      },
      "text/plain": [
       "VBox()"
      ]
     },
     "metadata": {},
     "output_type": "display_data"
    },
    {
     "data": {
      "application/vnd.jupyter.widget-view+json": {
       "model_id": "",
       "version_major": 2,
       "version_minor": 0
      },
      "text/plain": [
       "FloatProgress(value=0.0, bar_style='info', description='Progress:', layout=Layout(height='25px', width='50%'),…"
      ]
     },
     "metadata": {},
     "output_type": "display_data"
    },
    {
     "name": "stdout",
     "output_type": "stream",
     "text": [
      "root\n",
      " |-- artist: string (nullable = true)\n",
      " |-- auth: string (nullable = true)\n",
      " |-- firstName: string (nullable = true)\n",
      " |-- gender: string (nullable = true)\n",
      " |-- itemInSession: long (nullable = true)\n",
      " |-- lastName: string (nullable = true)\n",
      " |-- length: double (nullable = true)\n",
      " |-- level: string (nullable = true)\n",
      " |-- location: string (nullable = true)\n",
      " |-- method: string (nullable = true)\n",
      " |-- page: string (nullable = true)\n",
      " |-- registration: long (nullable = true)\n",
      " |-- sessionId: long (nullable = true)\n",
      " |-- song: string (nullable = true)\n",
      " |-- status: long (nullable = true)\n",
      " |-- ts: long (nullable = true)\n",
      " |-- userAgent: string (nullable = true)\n",
      " |-- userId: string (nullable = true)"
     ]
    }
   ],
   "source": [
    "#Load the dataset and print schema\n",
    "df = spark.read.json(\"s3n://udacity-dsnd/sparkify/sparkify_event_data.json\")\n",
    "df.printSchema()"
   ]
  },
  {
   "cell_type": "code",
   "execution_count": 7,
   "id": "2e6651e6",
   "metadata": {},
   "outputs": [
    {
     "data": {
      "application/vnd.jupyter.widget-view+json": {
       "model_id": "5b0d30dd8e0b4a37bd077a16f76d1603",
       "version_major": 2,
       "version_minor": 0
      },
      "text/plain": [
       "VBox()"
      ]
     },
     "metadata": {},
     "output_type": "display_data"
    },
    {
     "data": {
      "application/vnd.jupyter.widget-view+json": {
       "model_id": "",
       "version_major": 2,
       "version_minor": 0
      },
      "text/plain": [
       "FloatProgress(value=0.0, bar_style='info', description='Progress:', layout=Layout(height='25px', width='50%'),…"
      ]
     },
     "metadata": {},
     "output_type": "display_data"
    },
    {
     "name": "stdout",
     "output_type": "stream",
     "text": [
      "26259199"
     ]
    }
   ],
   "source": [
    "#We drop dulicated rows \n",
    "df = df.dropDuplicates()\n",
    "\n",
    "#We drop rows with NAN userId and sessionId\n",
    "df = df.filter(df[\"userId\"] != np.nan)\n",
    "df = df.filter(df[\"sessionId\"] != np.nan)\n",
    "df.count()"
   ]
  },
  {
   "cell_type": "code",
   "execution_count": 8,
   "id": "2c976c4b",
   "metadata": {},
   "outputs": [
    {
     "data": {
      "application/vnd.jupyter.widget-view+json": {
       "model_id": "7b7d3367db8d453299c87e399850a2ab",
       "version_major": 2,
       "version_minor": 0
      },
      "text/plain": [
       "VBox()"
      ]
     },
     "metadata": {},
     "output_type": "display_data"
    },
    {
     "data": {
      "application/vnd.jupyter.widget-view+json": {
       "model_id": "",
       "version_major": 2,
       "version_minor": 0
      },
      "text/plain": [
       "FloatProgress(value=0.0, bar_style='info', description='Progress:', layout=Layout(height='25px', width='50%'),…"
      ]
     },
     "metadata": {},
     "output_type": "display_data"
    },
    {
     "name": "stdout",
     "output_type": "stream",
     "text": [
      "There are 22278 distinct users (by userID)\n",
      "There are 22 distinct page types (by userID)"
     ]
    }
   ],
   "source": [
    "#Number of unique users (by ID)\n",
    "Num_Unique_Users = df.select('userId').distinct().count()\n",
    "print(\"There are {} distinct users (by userID)\".format(Num_Unique_Users))\n",
    "\n",
    "#Number of different type of pages\n",
    "Num_Unique_Pages = df.select('page').distinct().count()\n",
    "print(\"There are {} distinct page types (by userID)\".format(Num_Unique_Pages))"
   ]
  },
  {
   "cell_type": "code",
   "execution_count": 9,
   "id": "8e43dd5a",
   "metadata": {},
   "outputs": [
    {
     "data": {
      "application/vnd.jupyter.widget-view+json": {
       "model_id": "8be6b578c9194909a570402a21854732",
       "version_major": 2,
       "version_minor": 0
      },
      "text/plain": [
       "VBox()"
      ]
     },
     "metadata": {},
     "output_type": "display_data"
    },
    {
     "data": {
      "application/vnd.jupyter.widget-view+json": {
       "model_id": "",
       "version_major": 2,
       "version_minor": 0
      },
      "text/plain": [
       "FloatProgress(value=0.0, bar_style='info', description='Progress:', layout=Layout(height='25px', width='50%'),…"
      ]
     },
     "metadata": {},
     "output_type": "display_data"
    }
   ],
   "source": [
    "#Define churn as user ever been to Cancellation Confirmation page\n",
    "cancel_churn = udf(lambda x: 1 if x == \"Cancellation Confirmation\" else 0, IntegerType())\n",
    "df = df.withColumn(\"Cancel\", cancel_churn(\"page\"))\n",
    "\n",
    "#Define downgrade as user ever been to Submit Downgrade page\n",
    "downgrade_churn = udf(lambda x: 1 if x == \"Submit Downgrade\" else 0, IntegerType())\n",
    "df = df.withColumn(\"Downgrade\", downgrade_churn(\"page\"))\n",
    "\n",
    "#Define upgrade as user ever been to Submit Upgrade page\n",
    "upgrade_churn = udf(lambda x: 1 if x == \"Submit Upgrade\" else 0, IntegerType())\n",
    "df = df.withColumn(\"Upgrade\", upgrade_churn(\"page\"))"
   ]
  },
  {
   "cell_type": "code",
   "execution_count": 10,
   "id": "ca36a473",
   "metadata": {},
   "outputs": [
    {
     "data": {
      "application/vnd.jupyter.widget-view+json": {
       "model_id": "5de3812cda324b95823ed6348a312a2d",
       "version_major": 2,
       "version_minor": 0
      },
      "text/plain": [
       "VBox()"
      ]
     },
     "metadata": {},
     "output_type": "display_data"
    },
    {
     "data": {
      "application/vnd.jupyter.widget-view+json": {
       "model_id": "",
       "version_major": 2,
       "version_minor": 0
      },
      "text/plain": [
       "FloatProgress(value=0.0, bar_style='info', description='Progress:', layout=Layout(height='25px', width='50%'),…"
      ]
     },
     "metadata": {},
     "output_type": "display_data"
    }
   ],
   "source": [
    "#Define window for time span calculation\n",
    "windowSpec  = Window.partitionBy(\"userId\")\n",
    "\n",
    "#Create new column containing time span in days\n",
    "df = df.withColumn(\"Time-Span\", ceil((sql_func.max(col('ts')).over(windowSpec) - sql_func.min(col('ts')).over(windowSpec))/86400000))"
   ]
  },
  {
   "cell_type": "code",
   "execution_count": 11,
   "id": "624f9211",
   "metadata": {},
   "outputs": [
    {
     "data": {
      "application/vnd.jupyter.widget-view+json": {
       "model_id": "9acad5ebf97747c39be41a3f8bb63419",
       "version_major": 2,
       "version_minor": 0
      },
      "text/plain": [
       "VBox()"
      ]
     },
     "metadata": {},
     "output_type": "display_data"
    },
    {
     "data": {
      "application/vnd.jupyter.widget-view+json": {
       "model_id": "",
       "version_major": 2,
       "version_minor": 0
      },
      "text/plain": [
       "FloatProgress(value=0.0, bar_style='info', description='Progress:', layout=Layout(height='25px', width='50%'),…"
      ]
     },
     "metadata": {},
     "output_type": "display_data"
    },
    {
     "name": "stdout",
     "output_type": "stream",
     "text": [
      "Text(0.5, 1.0, 'Distribution of Count of User Activities')"
     ]
    }
   ],
   "source": [
    "#Plot count of user activities recorded in our dataset\n",
    "user_count = df.groupBy('userId').count().orderBy(\"count\").toPandas()\n",
    "plt.figure(figsize = [20,10])\n",
    "plt.hist(user_count['count'], bins = 1000)\n",
    "plt.xlabel(\"Count of User Activities\")\n",
    "plt.ylabel(\"Frequency\")\n",
    "plt.title(\"Distribution of Count of User Activities\")\n",
    "%matplot plt"
   ]
  },
  {
   "cell_type": "code",
   "execution_count": 23,
   "id": "4811d52e",
   "metadata": {},
   "outputs": [
    {
     "data": {
      "application/vnd.jupyter.widget-view+json": {
       "model_id": "4229e148f7064bbc8126a9e64982ec93",
       "version_major": 2,
       "version_minor": 0
      },
      "text/plain": [
       "VBox()"
      ]
     },
     "metadata": {},
     "output_type": "display_data"
    },
    {
     "data": {
      "application/vnd.jupyter.widget-view+json": {
       "model_id": "",
       "version_major": 2,
       "version_minor": 0
      },
      "text/plain": [
       "FloatProgress(value=0.0, bar_style='info', description='Progress:', layout=Layout(height='25px', width='50%'),…"
      ]
     },
     "metadata": {},
     "output_type": "display_data"
    },
    {
     "data": {
      "image/png": "[encoded data removed]",
      "text/plain": [
       "<IPython.core.display.Image object>"
      ]
     },
     "metadata": {},
     "output_type": "display_data"
    }
   ],
   "source": [
    "#Plot number of page activities recorded by page type\n",
    "page_count = df.groupBy('page').count().sort(\"count\", ascending = True).toPandas()\n",
    "plt.figure(figsize = [20,10])\n",
    "sb.barplot(x = 'page', y = 'count', data = page_count)\n",
    "plt.xticks(rotation = 45)\n",
    "plt.xlabel(\"Page Type\")\n",
    "plt.ylabel(\"Number of Page Activities Recorded\")\n",
    "plt.title(\"Number of Page Activities Recorded VS Page Type\")\n",
    "%matplot plt"
   ]
  },
  {
   "cell_type": "code",
   "execution_count": 22,
   "id": "71498831",
   "metadata": {},
   "outputs": [
    {
     "data": {
      "application/vnd.jupyter.widget-view+json": {
       "model_id": "4e10f1124a63473eaa890b742fedd716",
       "version_major": 2,
       "version_minor": 0
      },
      "text/plain": [
       "VBox()"
      ]
     },
     "metadata": {},
     "output_type": "display_data"
    },
    {
     "data": {
      "application/vnd.jupyter.widget-view+json": {
       "model_id": "",
       "version_major": 2,
       "version_minor": 0
      },
      "text/plain": [
       "FloatProgress(value=0.0, bar_style='info', description='Progress:', layout=Layout(height='25px', width='50%'),…"
      ]
     },
     "metadata": {},
     "output_type": "display_data"
    },
    {
     "name": "stdout",
     "output_type": "stream",
     "text": [
      "0             1\n",
      "1             1\n",
      "2             1\n",
      "3             1\n",
      "4             1\n",
      "          ...  \n",
      "22273     11858\n",
      "22274     12372\n",
      "22275     12831\n",
      "22276     13591\n",
      "22277    778479\n",
      "Name: count, Length: 22278, dtype: int64"
     ]
    }
   ],
   "source": [
    "user_count['count']"
   ]
  },
  {
   "cell_type": "code",
   "execution_count": null,
   "id": "6557b569",
   "metadata": {},
   "outputs": [],
   "source": []
  }
 ],
 "metadata": {
  "kernelspec": {
   "display_name": "PySpark",
   "language": "",
   "name": "pysparkkernel"
  },
  "language_info": {
   "codemirror_mode": {
    "name": "python",
    "version": 3
   },
   "mimetype": "text/x-python",
   "name": "pyspark",
   "pygments_lexer": "python3"
  }
 },
 "nbformat": 4,
 "nbformat_minor": 5
}
